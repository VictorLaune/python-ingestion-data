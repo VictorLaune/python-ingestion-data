{
 "cells": [
  {
   "cell_type": "markdown",
   "id": "6aae2f6f",
   "metadata": {},
   "source": [
    "**Javascript Object Notation (JSON)**\n",
    "- Common web data format\n",
    "- Not tabular\n",
    "    - Records don't have to all have the same set of attributes\n",
    "- Data organized into collections of objects\n",
    "- Objects are collections of attribute-value pairs\n",
    "- Nested JSON: objects within objects\n",
    "\n",
    "**Reading JSON Data**\n",
    "- <code>read_json()</code>\n",
    "    - Takes a string path to JSON _or_ JSON data as a string\n",
    "    - Specify data types with <code>dtype</code> keyword argument\n",
    "    - <code>orient</code> keyword argument to flag uncommon JSON data layouts\n",
    "        - possible values in <code>pandas</code> documentation\n",
    "\n",
    "**Data Orientation**\n",
    "- JSON data ins't tabular\n",
    "    - <code>pandas</code> guessses how to arrange it in a table\n",
    "- <code>pandas</code> can automatically handle common orientations\n",
    "\n",
    "**Application Programming Interfaces**\n",
    "- Defines how a application communicates with other programs\n",
    "- Way to get data from an application without knowing database details\n",
    "\n",
    "**Requests library**\n",
    "- Send and get data from websites\n",
    "- Not tied to a particular API\n",
    "- <code>requests.get()</code> to get data from a URL\n",
    "- requests.get(url_string) to get data from a URL\n",
    "- Keyword arguments\n",
    "    - <code>params</code> keyword: takes a dictionary of parameters and values to customize API request\n",
    "    - <code>headers</code> keyword: takes a dictionary, can be used to provide user authentication to API\n",
    "- Result: a <code>response</code> object, containing data and metadata.\n",
    "    - <code>response.json()</code> will return just the JSON data\n",
    "\n",
    "**response.json() and pandas**\n",
    "- <code>response.json()</code> returns a dictionary\n",
    "- <code>read_json()</code> expects strings, not dictionaries\n",
    "- Load the response JSON to a dataframe with <code>pd.DataFrame()</code>\n",
    "    - <code>read_json()</code> will give an error!"
   ]
  },
  {
   "cell_type": "markdown",
   "id": "f60460cf",
   "metadata": {},
   "source": [
    "**Making requests**"
   ]
  },
  {
   "cell_type": "code",
   "execution_count": 4,
   "id": "974da73f",
   "metadata": {},
   "outputs": [],
   "source": [
    "import requests\n",
    "import pandas as pd\n",
    "\n",
    "api_url = \"https://api.yelp.com/v3/businesses/search\"\n",
    "\n",
    "# Set up parameter dictionary according to documentation\n",
    "params = {\"term\": \"restaurants\",\n",
    "         \"location\":\"San Francisco\"}\n",
    "\n",
    "# Set up header dictionary w/ API key according to documentation\n",
    "headers = {\"Authorization\":\"Bearer {}\".format(api_key)}\n",
    "\n",
    "# Call the API\n",
    "response = requests.get(api_url, \n",
    "                        params=params,\n",
    "                        headers=headers)"
   ]
  },
  {
   "cell_type": "code",
   "execution_count": 6,
   "id": "8e0011e4",
   "metadata": {},
   "outputs": [
    {
     "name": "stdout",
     "output_type": "stream",
     "text": [
      "{'error': {'code': 'VALIDATION_ERROR', 'description': 'Authorization is a required parameter.', 'field': 'Authorization', 'instance': None}}\n"
     ]
    }
   ],
   "source": [
    "# Isolae the JSON data rom the response object\n",
    "data = response.json()\n",
    "print(data)"
   ]
  },
  {
   "cell_type": "code",
   "execution_count": 8,
   "id": "7816b7d5",
   "metadata": {},
   "outputs": [
    {
     "name": "stdout",
     "output_type": "stream",
     "text": [
      "                                              error\n",
      "code                               VALIDATION_ERROR\n",
      "description  Authorization is a required parameter.\n",
      "field                                 Authorization\n",
      "instance                                       None\n"
     ]
    }
   ],
   "source": [
    "# Load businesses data to a dataframe\n",
    "bookstores = pd.DataFrame(data)\n",
    "print(bookstores)"
   ]
  },
  {
   "cell_type": "markdown",
   "id": "dadc69dc",
   "metadata": {},
   "source": [
    "**Nested JSONs**\n",
    "- JSONs contain objects with attribute-value pairs\n",
    "- A JSON is nested when the value itself is an object\n",
    "\n",
    "**pandas.io.json**\n",
    "- <code>pandas.io.json</code> submodule has tools for reading and writing JSON\n",
    "- <code>json_normalize</code>\n",
    "    - Takes a dictionary/list of dictionaries (like <code>pd.DataFrame()</code> does)\n",
    "    - Returns a flattened dataframe\n",
    "    - Default flattened column name pattern: <code>attribute.nestedattribute</code>\n",
    "    - Choose a different separator with the <code>sep</code> argument"
   ]
  },
  {
   "cell_type": "markdown",
   "id": "239138ae",
   "metadata": {},
   "source": [
    "**Combining multiple datasets**\n",
    "\n",
    "**Appending**\n",
    "- Use case: adding rows from one dataframe to another\n",
    "- <code>append()</code>\n",
    "    - Dataframe method\n",
    "    - Syntax: <code>df1.append(df2)</code>\n",
    "    - Set <code>ignore_index</code> to <code>True</code> to renumber rows\n",
    "\n",
    "**Merging**\n",
    "- Use case: combining datasets to add related columns\n",
    "- Datasets have key column(s) with common values\n",
    "- <code>merge()</code>: <code>pandas</code> version of a SQL join\n",
    "    - Both a <code>pandas</code> function and a dataframe method\n",
    "- <code>df.merge()</code> arguments\n",
    "    - Seconde dataframe to merge\n",
    "    - Columns to merge on\n",
    "        - <code>on</code> if names are the same in both dataframes\n",
    "        - <code>left_on</code> and <code>right_on</code> if key names differ\n",
    "        - Key columns should be the same data type\n",
    "- Default <code>merge()</code> behavior: return only values that are in both datasets\n",
    "- On record for each value match between dataframes\n",
    "    - Multiple matches = multiple records"
   ]
  },
  {
   "cell_type": "code",
   "execution_count": null,
   "id": "83b5a8a6",
   "metadata": {},
   "outputs": [],
   "source": []
  }
 ],
 "metadata": {
  "kernelspec": {
   "display_name": "Python 3 (ipykernel)",
   "language": "python",
   "name": "python3"
  },
  "language_info": {
   "codemirror_mode": {
    "name": "ipython",
    "version": 3
   },
   "file_extension": ".py",
   "mimetype": "text/x-python",
   "name": "python",
   "nbconvert_exporter": "python",
   "pygments_lexer": "ipython3",
   "version": "3.9.13"
  }
 },
 "nbformat": 4,
 "nbformat_minor": 5
}
